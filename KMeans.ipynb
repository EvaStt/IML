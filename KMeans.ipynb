{
 "cells": [
  {
   "cell_type": "code",
   "execution_count": 1,
   "metadata": {},
   "outputs": [
    {
     "name": "stderr",
     "output_type": "stream",
     "text": [
      "D:\\MyPrograms\\Anaconda3\\lib\\site-packages\\ipykernel\\parentpoller.py:116: UserWarning: Parent poll failed.  If the frontend dies,\n",
      "                the kernel may be left running.  Please let us know\n",
      "                about your system (bitness, Python, etc.) at\n",
      "                ipython-dev@scipy.org\n",
      "  ipython-dev@scipy.org\"\"\")\n"
     ]
    }
   ],
   "source": [
    "import numpy as np\n",
    "import matplotlib.pyplot as plt"
   ]
  },
  {
   "cell_type": "code",
   "execution_count": 83,
   "metadata": {},
   "outputs": [
    {
     "data": {
      "image/png": "[encoded data removed]",
      "text/plain": [
       "<Figure size 432x288 with 2 Axes>"
      ]
     },
     "metadata": {
      "needs_background": "light"
     },
     "output_type": "display_data"
    }
   ],
   "source": [
    "k = 2\n",
    "np.random.seed(64)\n",
    "X = np.random.rand(100,2)\n",
    "kmeans(k, X, draw=True)\n"
   ]
  },
  {
   "cell_type": "code",
   "execution_count": 68,
   "metadata": {},
   "outputs": [],
   "source": [
    "def kmeans(k, X, draw=False):\n",
    "    centers = np.random.rand(k,2)\n",
    "    for i in range(5):\n",
    "        dist_x =  []\n",
    "        for c in centers:\n",
    "            d = np.asarray([np.sqrt(np.sum((elem-c)**2)) for elem in X])\n",
    "            dist_x.append(d)\n",
    "\n",
    "        dist_x = np.asarray(dist_x)\n",
    "        indexes = np.argmin(dist_x, axis=0)\n",
    "        \n",
    "    for i in range(k):\n",
    "        centers[i, :] = np.mean(X[indexes == i, :], axis=0)\n",
    "\n",
    "    if draw:\n",
    "        plt.subplot(2, 2, 1)\n",
    "        plt.scatter(X[:, 0], X[:, 1], c='turquoise', marker='o')\n",
    "\n",
    "        plt.subplot(2, 2, 2)\n",
    "        plt.plot(centers[:, 0], centers[:, 1], 'ro')\n",
    "        for i in range(k):\n",
    "            plt.scatter(X[indexes == i, 0], X[indexes == i, 1], marker='*')\n",
    "            "
   ]
  }
 ],
 "metadata": {
  "kernelspec": {
   "display_name": "Python 3",
   "language": "python",
   "name": "python3"
  },
  "language_info": {
   "codemirror_mode": {
    "name": "ipython",
    "version": 3
   },
   "file_extension": ".py",
   "mimetype": "text/x-python",
   "name": "python",
   "nbconvert_exporter": "python",
   "pygments_lexer": "ipython3",
   "version": "3.7.0"
  }
 },
 "nbformat": 4,
 "nbformat_minor": 2
}
